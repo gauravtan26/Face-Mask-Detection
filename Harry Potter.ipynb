{
 "cells": [
  {
   "cell_type": "code",
   "execution_count": 75,
   "metadata": {},
   "outputs": [],
   "source": [
    "import numpy\n",
    "import pandas as pd\n",
    "import seaborn as sns\n",
    "import matplotlib.pyplot as plt"
   ]
  },
  {
   "cell_type": "code",
   "execution_count": 60,
   "metadata": {},
   "outputs": [],
   "source": [
    "harry_df=pd.read_csv(r'C:\\Users\\gtanwar2\\Downloads\\lightning.csv\\lightning.csv')"
   ]
  },
  {
   "cell_type": "code",
   "execution_count": 61,
   "metadata": {},
   "outputs": [
    {
     "name": "stdout",
     "output_type": "stream",
     "text": [
      "<class 'pandas.core.frame.DataFrame'>\n",
      "RangeIndex: 720 entries, 0 to 719\n",
      "Data columns (total 8 columns):\n",
      " #   Column       Non-Null Count  Dtype  \n",
      "---  ------       --------------  -----  \n",
      " 0   Unnamed: 0   720 non-null    int64  \n",
      " 1   book         720 non-null    object \n",
      " 2   name         720 non-null    object \n",
      " 3   date         720 non-null    object \n",
      " 4   rating       690 non-null    object \n",
      " 5   likes        720 non-null    object \n",
      " 6   description  719 non-null    object \n",
      " 7   stars_given  690 non-null    float64\n",
      "dtypes: float64(1), int64(1), object(6)\n",
      "memory usage: 45.1+ KB\n"
     ]
    }
   ],
   "source": [
    "harry_df.info()"
   ]
  },
  {
   "cell_type": "code",
   "execution_count": 62,
   "metadata": {},
   "outputs": [
    {
     "data": {
      "text/html": [
       "<div>\n",
       "<style scoped>\n",
       "    .dataframe tbody tr th:only-of-type {\n",
       "        vertical-align: middle;\n",
       "    }\n",
       "\n",
       "    .dataframe tbody tr th {\n",
       "        vertical-align: top;\n",
       "    }\n",
       "\n",
       "    .dataframe thead th {\n",
       "        text-align: right;\n",
       "    }\n",
       "</style>\n",
       "<table border=\"1\" class=\"dataframe\">\n",
       "  <thead>\n",
       "    <tr style=\"text-align: right;\">\n",
       "      <th></th>\n",
       "      <th>Unnamed: 0</th>\n",
       "      <th>book</th>\n",
       "      <th>name</th>\n",
       "      <th>date</th>\n",
       "      <th>rating</th>\n",
       "      <th>likes</th>\n",
       "      <th>description</th>\n",
       "      <th>stars_given</th>\n",
       "    </tr>\n",
       "  </thead>\n",
       "  <tbody>\n",
       "    <tr>\n",
       "      <th>0</th>\n",
       "      <td>0</td>\n",
       "      <td>Harry Potter and the Sorcerer's Stone</td>\n",
       "      <td>MirandaReads</td>\n",
       "      <td>Nov11,2019</td>\n",
       "      <td>itwasamazing</td>\n",
       "      <td>1657 likes</td>\n",
       "      <td>Stuck at home? Got some time on your hands? Wa...</td>\n",
       "      <td>5.0</td>\n",
       "    </tr>\n",
       "    <tr>\n",
       "      <th>1</th>\n",
       "      <td>1</td>\n",
       "      <td>Harry Potter and the Sorcerer's Stone</td>\n",
       "      <td>Kai</td>\n",
       "      <td>Apr02,2015</td>\n",
       "      <td>NaN</td>\n",
       "      <td>993 likes</td>\n",
       "      <td>Let's do this thing where we promote and recom...</td>\n",
       "      <td>NaN</td>\n",
       "    </tr>\n",
       "    <tr>\n",
       "      <th>2</th>\n",
       "      <td>2</td>\n",
       "      <td>Harry Potter and the Sorcerer's Stone</td>\n",
       "      <td>Lora</td>\n",
       "      <td>Jun03,2011</td>\n",
       "      <td>itwasamazing</td>\n",
       "      <td>1599 likes</td>\n",
       "      <td>I'm going to keep this brief since there isn't...</td>\n",
       "      <td>5.0</td>\n",
       "    </tr>\n",
       "    <tr>\n",
       "      <th>3</th>\n",
       "      <td>3</td>\n",
       "      <td>Harry Potter and the Sorcerer's Stone</td>\n",
       "      <td>★Jess</td>\n",
       "      <td>Dec10,2009</td>\n",
       "      <td>itwasamazing</td>\n",
       "      <td>831 likes</td>\n",
       "      <td>My original review was a comparison of sorts b...</td>\n",
       "      <td>5.0</td>\n",
       "    </tr>\n",
       "    <tr>\n",
       "      <th>4</th>\n",
       "      <td>4</td>\n",
       "      <td>Harry Potter and the Sorcerer's Stone</td>\n",
       "      <td>Matthew</td>\n",
       "      <td>Jan08,2013</td>\n",
       "      <td>itwasamazing</td>\n",
       "      <td>911 likes</td>\n",
       "      <td>One of my first jobs was at a bookstore. When ...</td>\n",
       "      <td>5.0</td>\n",
       "    </tr>\n",
       "  </tbody>\n",
       "</table>\n",
       "</div>"
      ],
      "text/plain": [
       "   Unnamed: 0                                   book          name  \\\n",
       "0           0  Harry Potter and the Sorcerer's Stone  MirandaReads   \n",
       "1           1  Harry Potter and the Sorcerer's Stone           Kai   \n",
       "2           2  Harry Potter and the Sorcerer's Stone          Lora   \n",
       "3           3  Harry Potter and the Sorcerer's Stone         ★Jess   \n",
       "4           4  Harry Potter and the Sorcerer's Stone       Matthew   \n",
       "\n",
       "         date        rating       likes  \\\n",
       "0  Nov11,2019  itwasamazing  1657 likes   \n",
       "1  Apr02,2015           NaN   993 likes   \n",
       "2  Jun03,2011  itwasamazing  1599 likes   \n",
       "3  Dec10,2009  itwasamazing   831 likes   \n",
       "4  Jan08,2013  itwasamazing   911 likes   \n",
       "\n",
       "                                         description  stars_given  \n",
       "0  Stuck at home? Got some time on your hands? Wa...          5.0  \n",
       "1  Let's do this thing where we promote and recom...          NaN  \n",
       "2  I'm going to keep this brief since there isn't...          5.0  \n",
       "3  My original review was a comparison of sorts b...          5.0  \n",
       "4  One of my first jobs was at a bookstore. When ...          5.0  "
      ]
     },
     "execution_count": 62,
     "metadata": {},
     "output_type": "execute_result"
    }
   ],
   "source": [
    "harry_df.head()"
   ]
  },
  {
   "cell_type": "code",
   "execution_count": 63,
   "metadata": {},
   "outputs": [
    {
     "data": {
      "text/plain": [
       "Index(['Unnamed: 0', 'book', 'name', 'date', 'rating', 'likes', 'description',\n",
       "       'stars_given'],\n",
       "      dtype='object')"
      ]
     },
     "execution_count": 63,
     "metadata": {},
     "output_type": "execute_result"
    }
   ],
   "source": [
    "harry_df.columns"
   ]
  },
  {
   "cell_type": "code",
   "execution_count": 64,
   "metadata": {},
   "outputs": [],
   "source": [
    "harry_df.drop(columns=['Unnamed: 0','name'],inplace=True)"
   ]
  },
  {
   "cell_type": "code",
   "execution_count": 65,
   "metadata": {},
   "outputs": [
    {
     "data": {
      "text/plain": [
       "8"
      ]
     },
     "execution_count": 65,
     "metadata": {},
     "output_type": "execute_result"
    }
   ],
   "source": [
    "harry_df['book'].nunique()"
   ]
  },
  {
   "cell_type": "code",
   "execution_count": 66,
   "metadata": {},
   "outputs": [
    {
     "data": {
      "text/plain": [
       "array([\"Harry Potter and the Sorcerer's Stone\",\n",
       "       'Harry Potter and the Deathly Hallows',\n",
       "       'Harry Potter and the Prisoner of Azkaban',\n",
       "       'Harry Potter and the Order of the Phoenix',\n",
       "       'Harry Potter and the Chamber of Secrets',\n",
       "       'Harry Potter and the Cursed Child: Parts One and Two',\n",
       "       'Harry Potter and the Goblet of Fire',\n",
       "       'Harry Potter and the Half-Blood Prince'], dtype=object)"
      ]
     },
     "execution_count": 66,
     "metadata": {},
     "output_type": "execute_result"
    }
   ],
   "source": [
    "harry_df['book'].unique()"
   ]
  },
  {
   "cell_type": "code",
   "execution_count": 67,
   "metadata": {},
   "outputs": [],
   "source": [
    "harry_df['date']=harry_df['date'].apply(lambda x: x.split(',')[1])"
   ]
  },
  {
   "cell_type": "code",
   "execution_count": 95,
   "metadata": {},
   "outputs": [
    {
     "name": "stderr",
     "output_type": "stream",
     "text": [
      "C:\\Users\\gtanwar2\\Anaconda3\\lib\\site-packages\\seaborn\\_decorators.py:36: FutureWarning: Pass the following variable as a keyword arg: x. From version 0.12, the only valid positional argument will be `data`, and passing other arguments without an explicit keyword will result in an error or misinterpretation.\n",
      "  warnings.warn(\n"
     ]
    },
    {
     "data": {
      "image/png": "[encoded data removed]",
      "text/plain": [
       "<Figure size 1440x576 with 1 Axes>"
      ]
     },
     "metadata": {
      "needs_background": "light"
     },
     "output_type": "display_data"
    }
   ],
   "source": [
    "figure=plt.figure(figsize=(20,8))\n",
    "x=sns.countplot(sorted(harry_df.date))"
   ]
  },
  {
   "cell_type": "code",
   "execution_count": 68,
   "metadata": {},
   "outputs": [
    {
     "name": "stdout",
     "output_type": "stream",
     "text": [
      "['itwasamazing' nan 'reallylikedit' 'didnotlikeit' 'likedit' 'itwasok']\n"
     ]
    }
   ],
   "source": [
    "ratings=harry_df['rating'].unique()\n",
    "print(ratings)"
   ]
  },
  {
   "cell_type": "code",
   "execution_count": 69,
   "metadata": {},
   "outputs": [
    {
     "data": {
      "text/plain": [
       "array([ 5., nan,  4.,  1.,  3.,  2.])"
      ]
     },
     "execution_count": 69,
     "metadata": {},
     "output_type": "execute_result"
    }
   ],
   "source": [
    "harry_df['stars_given'].unique()"
   ]
  },
  {
   "cell_type": "code",
   "execution_count": 70,
   "metadata": {},
   "outputs": [
    {
     "name": "stdout",
     "output_type": "stream",
     "text": [
      "itwasamazing: [5.]\n",
      "nan: []\n",
      "reallylikedit: [4.]\n",
      "didnotlikeit: [1.]\n",
      "likedit: [3.]\n",
      "itwasok: [2.]\n"
     ]
    }
   ],
   "source": [
    "for rating in ratings:\n",
    "    print(str(rating)+\": \"+str(harry_df[harry_df['rating']==rating]['stars_given'].unique()))"
   ]
  },
  {
   "cell_type": "code",
   "execution_count": 71,
   "metadata": {},
   "outputs": [],
   "source": [
    "harry_df.dropna(axis=0,subset=['description'],inplace=True)"
   ]
  },
  {
   "cell_type": "code",
   "execution_count": 72,
   "metadata": {},
   "outputs": [
    {
     "name": "stdout",
     "output_type": "stream",
     "text": [
      "<class 'pandas.core.frame.DataFrame'>\n",
      "Int64Index: 719 entries, 0 to 719\n",
      "Data columns (total 6 columns):\n",
      " #   Column       Non-Null Count  Dtype  \n",
      "---  ------       --------------  -----  \n",
      " 0   book         719 non-null    object \n",
      " 1   date         719 non-null    object \n",
      " 2   rating       689 non-null    object \n",
      " 3   likes        719 non-null    object \n",
      " 4   description  719 non-null    object \n",
      " 5   stars_given  689 non-null    float64\n",
      "dtypes: float64(1), object(5)\n",
      "memory usage: 39.3+ KB\n"
     ]
    }
   ],
   "source": [
    "harry_df.info()"
   ]
  },
  {
   "cell_type": "code",
   "execution_count": 85,
   "metadata": {},
   "outputs": [],
   "source": [
    "books=harry_df.book.unique()"
   ]
  },
  {
   "cell_type": "code",
   "execution_count": 98,
   "metadata": {},
   "outputs": [
    {
     "data": {
      "image/png": "[encoded data removed]",
      "text/plain": [
       "<Figure size 576x576 with 1 Axes>"
      ]
     },
     "metadata": {
      "needs_background": "light"
     },
     "output_type": "display_data"
    },
    {
     "data": {
      "image/png": "[encoded data removed]",
      "text/plain": [
       "<Figure size 576x576 with 1 Axes>"
      ]
     },
     "metadata": {
      "needs_background": "light"
     },
     "output_type": "display_data"
    },
    {
     "data": {
      "image/png": "[encoded data removed]",
      "text/plain": [
       "<Figure size 576x576 with 1 Axes>"
      ]
     },
     "metadata": {
      "needs_background": "light"
     },
     "output_type": "display_data"
    },
    {
     "data": {
      "image/png": "[encoded data removed]",
      "text/plain": [
       "<Figure size 576x576 with 1 Axes>"
      ]
     },
     "metadata": {
      "needs_background": "light"
     },
     "output_type": "display_data"
    },
    {
     "data": {
      "image/png": "[encoded data removed]",
      "text/plain": [
       "<Figure size 576x576 with 1 Axes>"
      ]
     },
     "metadata": {
      "needs_background": "light"
     },
     "output_type": "display_data"
    },
    {
     "data": {
      "image/png": "[encoded data removed]",
      "text/plain": [
       "<Figure size 576x576 with 1 Axes>"
      ]
     },
     "metadata": {
      "needs_background": "light"
     },
     "output_type": "display_data"
    },
    {
     "data": {
      "image/png": "[encoded data removed]",
      "text/plain": [
       "<Figure size 576x576 with 1 Axes>"
      ]
     },
     "metadata": {
      "needs_background": "light"
     },
     "output_type": "display_data"
    },
    {
     "data": {
      "image/png": "[encoded data removed]",
      "text/plain": [
       "<Figure size 576x576 with 1 Axes>"
      ]
     },
     "metadata": {
      "needs_background": "light"
     },
     "output_type": "display_data"
    }
   ],
   "source": [
    "import warnings\n",
    "warnings.filterwarnings(\"ignore\")\n",
    "for book in books:\n",
    "    figure=plt.figure(figsize=(8,8))\n",
    "    sns.countplot(harry_df[harry_df.book==book]['stars_given'])\n",
    "    "
   ]
  },
  {
   "cell_type": "code",
   "execution_count": null,
   "metadata": {},
   "outputs": [],
   "source": []
  }
 ],
 "metadata": {
  "kernelspec": {
   "display_name": "Python 3",
   "language": "python",
   "name": "python3"
  },
  "language_info": {
   "codemirror_mode": {
    "name": "ipython",
    "version": 3
   },
   "file_extension": ".py",
   "mimetype": "text/x-python",
   "name": "python",
   "nbconvert_exporter": "python",
   "pygments_lexer": "ipython3",
   "version": "3.8.5"
  }
 },
 "nbformat": 4,
 "nbformat_minor": 4
}
